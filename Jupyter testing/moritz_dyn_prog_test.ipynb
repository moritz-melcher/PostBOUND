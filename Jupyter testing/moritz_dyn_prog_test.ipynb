{
 "cells": [
  {
   "cell_type": "markdown",
   "metadata": {},
   "source": [
    "# Testing functionality of the AddPathHook function"
   ]
  },
  {
   "cell_type": "code",
   "execution_count": 43,
   "metadata": {},
   "outputs": [
    {
     "name": "stdout",
     "output_type": "stream",
     "text": [
      "The autoreload extension is already loaded. To reload it, use:\n",
      "  %reload_ext autoreload\n"
     ]
    }
   ],
   "source": [
    "%load_ext autoreload\n",
    "%autoreload 2"
   ]
  },
  {
   "cell_type": "markdown",
   "metadata": {},
   "source": [
    "### Setup for Postgres and queries from the stats workload"
   ]
  },
  {
   "cell_type": "code",
   "execution_count": 44,
   "metadata": {},
   "outputs": [],
   "source": [
    "import sys, os\n",
    "import postbound as pb\n",
    "from postbound.optimizer import presets\n",
    "\n",
    "\n",
    "# Setup instance and load workload\n",
    "postgres_instance = pb.postgres.connect(connect_string=\"dbname=stats user=postbound host=localhost\")\n",
    "presets.apply_standard_system_options()\n",
    "stats_workload = pb.workloads.stats()"
   ]
  },
  {
   "cell_type": "code",
   "execution_count": 45,
   "metadata": {},
   "outputs": [],
   "source": [
    "# Select query from the workload\n",
    "query_1 = stats_workload[\"q-1\"]\n",
    "query_2 = stats_workload[\"q-2\"]\n",
    "query_30 = stats_workload[\"q-30\"]"
   ]
  },
  {
   "cell_type": "markdown",
   "metadata": {},
   "source": [
    "### Setup of the Textbook Optimization Pipeline\n",
    "* Using the Textbook Pipeline to enable the PostgresDynProg Enumerator/Planner\n",
    "* optimizing query through pipeline \n",
    "* setup add_path_hook variant within instance of PostgresDynProg\n",
    "* optimize queries"
   ]
  },
  {
   "cell_type": "code",
   "execution_count": 46,
   "metadata": {},
   "outputs": [
    {
     "name": "stderr",
     "output_type": "stream",
     "text": [
      "/postbound/pb-venv/lib/python3.12/site-packages/postbound/optimizer/strategies/dynprog.py:776: UserWarning: Rejecting illegal path IndexScan(u)\n",
      "  warnings.warn(f\"Rejecting illegal path {path}\")\n",
      "/postbound/pb-venv/lib/python3.12/site-packages/postbound/optimizer/strategies/dynprog.py:776: UserWarning: Rejecting illegal path BitmapScan(u)\n",
      "  warnings.warn(f\"Rejecting illegal path {path}\")\n",
      "/postbound/pb-venv/lib/python3.12/site-packages/postbound/optimizer/strategies/native.py:226: UserWarning: Could not estimate the cost of memoize plan Memoize(SequentialScan(u)). Returning infinite costs.\n",
      "  warnings.warn(f\"Could not estimate the cost of memoize plan {plan}. Returning infinite costs.\")\n",
      "/postbound/pb-venv/lib/python3.12/site-packages/postbound/optimizer/strategies/dynprog.py:776: UserWarning: Rejecting illegal path NestedLoopJoin(SequentialScan(b), Memoize(SequentialScan(u)))\n",
      "  warnings.warn(f\"Rejecting illegal path {path}\")\n",
      "/postbound/pb-venv/lib/python3.12/site-packages/postbound/optimizer/strategies/native.py:154: UserWarning: Could not estimate cost of materialize plan Materialize(SequentialScan(u)). Returning infinite costs.\n",
      "  warnings.warn(f\"Could not estimate cost of materialize plan {plan}. Returning infinite costs.\")\n",
      "/postbound/pb-venv/lib/python3.12/site-packages/postbound/optimizer/strategies/dynprog.py:776: UserWarning: Rejecting illegal path NestedLoopJoin(SequentialScan(u), Memoize(SequentialScan(b)))\n",
      "  warnings.warn(f\"Rejecting illegal path {path}\")\n",
      "/postbound/pb-venv/lib/python3.12/site-packages/postbound/optimizer/strategies/dynprog.py:776: UserWarning: Rejecting illegal path IndexScan(p)\n",
      "  warnings.warn(f\"Rejecting illegal path {path}\")\n",
      "/postbound/pb-venv/lib/python3.12/site-packages/postbound/optimizer/strategies/dynprog.py:776: UserWarning: Rejecting illegal path BitmapScan(p)\n",
      "  warnings.warn(f\"Rejecting illegal path {path}\")\n",
      "/postbound/pb-venv/lib/python3.12/site-packages/postbound/optimizer/strategies/native.py:226: UserWarning: Could not estimate the cost of memoize plan Memoize(SequentialScan(p)). Returning infinite costs.\n",
      "  warnings.warn(f\"Could not estimate the cost of memoize plan {plan}. Returning infinite costs.\")\n",
      "/postbound/pb-venv/lib/python3.12/site-packages/postbound/optimizer/strategies/dynprog.py:776: UserWarning: Rejecting illegal path NestedLoopJoin(BitmapScan(u), Memoize(SequentialScan(p)))\n",
      "  warnings.warn(f\"Rejecting illegal path {path}\")\n",
      "/postbound/pb-venv/lib/python3.12/site-packages/postbound/optimizer/strategies/native.py:154: UserWarning: Could not estimate cost of materialize plan Materialize(SequentialScan(p)). Returning infinite costs.\n",
      "  warnings.warn(f\"Could not estimate cost of materialize plan {plan}. Returning infinite costs.\")\n",
      "/postbound/pb-venv/lib/python3.12/site-packages/postbound/optimizer/strategies/native.py:233: UserWarning: Could not estimate cost of memoize plan Memoize(BitmapScan(u)). Returning infinite costs.\n",
      "  warnings.warn(f\"Could not estimate cost of memoize plan {plan}. Returning infinite costs.\")\n",
      "/postbound/pb-venv/lib/python3.12/site-packages/postbound/optimizer/strategies/native.py:154: UserWarning: Could not estimate cost of materialize plan Materialize(BitmapScan(u)). Returning infinite costs.\n",
      "  warnings.warn(f\"Could not estimate cost of materialize plan {plan}. Returning infinite costs.\")\n",
      "/postbound/pb-venv/lib/python3.12/site-packages/postbound/optimizer/strategies/native.py:233: UserWarning: Could not estimate cost of memoize plan Memoize(BitmapScan(v)). Returning infinite costs.\n",
      "  warnings.warn(f\"Could not estimate cost of memoize plan {plan}. Returning infinite costs.\")\n",
      "/postbound/pb-venv/lib/python3.12/site-packages/postbound/optimizer/strategies/native.py:154: UserWarning: Could not estimate cost of materialize plan Materialize(BitmapScan(v)). Returning infinite costs.\n",
      "  warnings.warn(f\"Could not estimate cost of materialize plan {plan}. Returning infinite costs.\")\n",
      "/postbound/pb-venv/lib/python3.12/site-packages/postbound/optimizer/strategies/dynprog.py:776: UserWarning: Rejecting illegal path NestedLoopJoin(BitmapScan(u), Memoize(SequentialScan(b)))\n",
      "  warnings.warn(f\"Rejecting illegal path {path}\")\n",
      "/postbound/pb-venv/lib/python3.12/site-packages/postbound/optimizer/strategies/dynprog.py:776: UserWarning: Rejecting illegal path NestedLoopJoin(BitmapScan(v), Memoize(SequentialScan(p)))\n",
      "  warnings.warn(f\"Rejecting illegal path {path}\")\n",
      "/postbound/pb-venv/lib/python3.12/site-packages/postbound/optimizer/strategies/dynprog.py:776: UserWarning: Rejecting illegal path NestedLoopJoin(SequentialScan(p), Memoize(SequentialScan(b)))\n",
      "  warnings.warn(f\"Rejecting illegal path {path}\")\n",
      "/postbound/pb-venv/lib/python3.12/site-packages/postbound/optimizer/strategies/dynprog.py:776: UserWarning: Rejecting illegal path NestedLoopJoin(SequentialScan(b), Memoize(SequentialScan(p)))\n",
      "  warnings.warn(f\"Rejecting illegal path {path}\")\n",
      "/postbound/pb-venv/lib/python3.12/site-packages/postbound/optimizer/strategies/dynprog.py:776: UserWarning: Rejecting illegal path NestedLoopJoin(BitmapScan(v), Memoize(SequentialScan(b)))\n",
      "  warnings.warn(f\"Rejecting illegal path {path}\")\n",
      "/postbound/pb-venv/lib/python3.12/site-packages/postbound/optimizer/strategies/native.py:226: UserWarning: Could not estimate the cost of memoize plan Memoize(HashJoin(SequentialScan(p), BitmapScan(u))). Returning infinite costs.\n",
      "  warnings.warn(f\"Could not estimate the cost of memoize plan {plan}. Returning infinite costs.\")\n",
      "/postbound/pb-venv/lib/python3.12/site-packages/postbound/optimizer/strategies/dynprog.py:776: UserWarning: Rejecting illegal path NestedLoopJoin(BitmapScan(v), Memoize(HashJoin(SequentialScan(p), BitmapScan(u))))\n",
      "  warnings.warn(f\"Rejecting illegal path {path}\")\n",
      "/postbound/pb-venv/lib/python3.12/site-packages/postbound/optimizer/strategies/native.py:154: UserWarning: Could not estimate cost of materialize plan Materialize(HashJoin(SequentialScan(p), BitmapScan(u))). Returning infinite costs.\n",
      "  warnings.warn(f\"Could not estimate cost of materialize plan {plan}. Returning infinite costs.\")\n",
      "/postbound/pb-venv/lib/python3.12/site-packages/postbound/optimizer/strategies/dynprog.py:776: UserWarning: Rejecting illegal path NestedLoopJoin(HashJoin(SequentialScan(p), BitmapScan(u)), Memoize(SequentialScan(b)))\n",
      "  warnings.warn(f\"Rejecting illegal path {path}\")\n",
      "/postbound/pb-venv/lib/python3.12/site-packages/postbound/optimizer/strategies/dynprog.py:776: UserWarning: Rejecting illegal path NestedLoopJoin(SequentialScan(b), Memoize(HashJoin(SequentialScan(p), BitmapScan(u))))\n",
      "  warnings.warn(f\"Rejecting illegal path {path}\")\n",
      "/postbound/pb-venv/lib/python3.12/site-packages/postbound/optimizer/strategies/dynprog.py:776: UserWarning: Rejecting illegal path NestedLoopJoin(HashJoin(BitmapScan(v), BitmapScan(u)), Memoize(SequentialScan(p)))\n",
      "  warnings.warn(f\"Rejecting illegal path {path}\")\n",
      "/postbound/pb-venv/lib/python3.12/site-packages/postbound/optimizer/strategies/native.py:226: UserWarning: Could not estimate the cost of memoize plan Memoize(HashJoin(BitmapScan(v), BitmapScan(u))). Returning infinite costs.\n",
      "  warnings.warn(f\"Could not estimate the cost of memoize plan {plan}. Returning infinite costs.\")\n",
      "/postbound/pb-venv/lib/python3.12/site-packages/postbound/optimizer/strategies/dynprog.py:776: UserWarning: Rejecting illegal path NestedLoopJoin(SequentialScan(p), Memoize(HashJoin(BitmapScan(v), BitmapScan(u))))\n",
      "  warnings.warn(f\"Rejecting illegal path {path}\")\n",
      "/postbound/pb-venv/lib/python3.12/site-packages/postbound/optimizer/strategies/native.py:154: UserWarning: Could not estimate cost of materialize plan Materialize(HashJoin(BitmapScan(v), BitmapScan(u))). Returning infinite costs.\n",
      "  warnings.warn(f\"Could not estimate cost of materialize plan {plan}. Returning infinite costs.\")\n",
      "/postbound/pb-venv/lib/python3.12/site-packages/postbound/optimizer/strategies/dynprog.py:776: UserWarning: Rejecting illegal path NestedLoopJoin(HashJoin(BitmapScan(v), BitmapScan(u)), Memoize(SequentialScan(b)))\n",
      "  warnings.warn(f\"Rejecting illegal path {path}\")\n",
      "/postbound/pb-venv/lib/python3.12/site-packages/postbound/optimizer/strategies/dynprog.py:776: UserWarning: Rejecting illegal path NestedLoopJoin(SequentialScan(b), Memoize(HashJoin(BitmapScan(v), BitmapScan(u))))\n",
      "  warnings.warn(f\"Rejecting illegal path {path}\")\n",
      "/postbound/pb-venv/lib/python3.12/site-packages/postbound/optimizer/strategies/dynprog.py:776: UserWarning: Rejecting illegal path NestedLoopJoin(HashJoin(SequentialScan(b), BitmapScan(u)), Memoize(SequentialScan(p)))\n",
      "  warnings.warn(f\"Rejecting illegal path {path}\")\n",
      "/postbound/pb-venv/lib/python3.12/site-packages/postbound/optimizer/strategies/native.py:226: UserWarning: Could not estimate the cost of memoize plan Memoize(HashJoin(SequentialScan(b), BitmapScan(u))). Returning infinite costs.\n",
      "  warnings.warn(f\"Could not estimate the cost of memoize plan {plan}. Returning infinite costs.\")\n",
      "/postbound/pb-venv/lib/python3.12/site-packages/postbound/optimizer/strategies/dynprog.py:776: UserWarning: Rejecting illegal path NestedLoopJoin(SequentialScan(p), Memoize(HashJoin(SequentialScan(b), BitmapScan(u))))\n",
      "  warnings.warn(f\"Rejecting illegal path {path}\")\n",
      "/postbound/pb-venv/lib/python3.12/site-packages/postbound/optimizer/strategies/native.py:154: UserWarning: Could not estimate cost of materialize plan Materialize(HashJoin(SequentialScan(b), BitmapScan(u))). Returning infinite costs.\n",
      "  warnings.warn(f\"Could not estimate cost of materialize plan {plan}. Returning infinite costs.\")\n",
      "/postbound/pb-venv/lib/python3.12/site-packages/postbound/optimizer/strategies/dynprog.py:776: UserWarning: Rejecting illegal path NestedLoopJoin(BitmapScan(v), Memoize(HashJoin(SequentialScan(b), BitmapScan(u))))\n",
      "  warnings.warn(f\"Rejecting illegal path {path}\")\n",
      "/postbound/pb-venv/lib/python3.12/site-packages/postbound/optimizer/strategies/native.py:226: UserWarning: Could not estimate the cost of memoize plan Memoize(HashJoin(SequentialScan(p), BitmapScan(v))). Returning infinite costs.\n",
      "  warnings.warn(f\"Could not estimate the cost of memoize plan {plan}. Returning infinite costs.\")\n",
      "/postbound/pb-venv/lib/python3.12/site-packages/postbound/optimizer/strategies/dynprog.py:776: UserWarning: Rejecting illegal path NestedLoopJoin(BitmapScan(u), Memoize(HashJoin(SequentialScan(p), BitmapScan(v))))\n",
      "  warnings.warn(f\"Rejecting illegal path {path}\")\n",
      "/postbound/pb-venv/lib/python3.12/site-packages/postbound/optimizer/strategies/native.py:154: UserWarning: Could not estimate cost of materialize plan Materialize(HashJoin(SequentialScan(p), BitmapScan(v))). Returning infinite costs.\n",
      "  warnings.warn(f\"Could not estimate cost of materialize plan {plan}. Returning infinite costs.\")\n",
      "/postbound/pb-venv/lib/python3.12/site-packages/postbound/optimizer/strategies/dynprog.py:776: UserWarning: Rejecting illegal path NestedLoopJoin(HashJoin(SequentialScan(p), BitmapScan(v)), Memoize(SequentialScan(b)))\n",
      "  warnings.warn(f\"Rejecting illegal path {path}\")\n",
      "/postbound/pb-venv/lib/python3.12/site-packages/postbound/optimizer/strategies/dynprog.py:776: UserWarning: Rejecting illegal path NestedLoopJoin(SequentialScan(b), Memoize(HashJoin(SequentialScan(p), BitmapScan(v))))\n",
      "  warnings.warn(f\"Rejecting illegal path {path}\")\n",
      "/postbound/pb-venv/lib/python3.12/site-packages/postbound/optimizer/strategies/native.py:226: UserWarning: Could not estimate the cost of memoize plan Memoize(HashJoin(SequentialScan(p), SequentialScan(b))). Returning infinite costs.\n",
      "  warnings.warn(f\"Could not estimate the cost of memoize plan {plan}. Returning infinite costs.\")\n",
      "/postbound/pb-venv/lib/python3.12/site-packages/postbound/optimizer/strategies/dynprog.py:776: UserWarning: Rejecting illegal path NestedLoopJoin(BitmapScan(u), Memoize(HashJoin(SequentialScan(p), SequentialScan(b))))\n",
      "  warnings.warn(f\"Rejecting illegal path {path}\")\n",
      "/postbound/pb-venv/lib/python3.12/site-packages/postbound/optimizer/strategies/native.py:154: UserWarning: Could not estimate cost of materialize plan Materialize(HashJoin(SequentialScan(p), SequentialScan(b))). Returning infinite costs.\n",
      "  warnings.warn(f\"Could not estimate cost of materialize plan {plan}. Returning infinite costs.\")\n",
      "/postbound/pb-venv/lib/python3.12/site-packages/postbound/optimizer/strategies/dynprog.py:776: UserWarning: Rejecting illegal path NestedLoopJoin(BitmapScan(v), Memoize(HashJoin(SequentialScan(p), SequentialScan(b))))\n",
      "  warnings.warn(f\"Rejecting illegal path {path}\")\n",
      "/postbound/pb-venv/lib/python3.12/site-packages/postbound/optimizer/strategies/native.py:226: UserWarning: Could not estimate the cost of memoize plan Memoize(HashJoin(BitmapScan(v), SequentialScan(b))). Returning infinite costs.\n",
      "  warnings.warn(f\"Could not estimate the cost of memoize plan {plan}. Returning infinite costs.\")\n",
      "/postbound/pb-venv/lib/python3.12/site-packages/postbound/optimizer/strategies/dynprog.py:776: UserWarning: Rejecting illegal path NestedLoopJoin(BitmapScan(u), Memoize(HashJoin(BitmapScan(v), SequentialScan(b))))\n",
      "  warnings.warn(f\"Rejecting illegal path {path}\")\n",
      "/postbound/pb-venv/lib/python3.12/site-packages/postbound/optimizer/strategies/native.py:154: UserWarning: Could not estimate cost of materialize plan Materialize(HashJoin(BitmapScan(v), SequentialScan(b))). Returning infinite costs.\n",
      "  warnings.warn(f\"Could not estimate cost of materialize plan {plan}. Returning infinite costs.\")\n"
     ]
    },
    {
     "name": "stdout",
     "output_type": "stream",
     "text": [
      "/*=pg_lab=\n",
      "  JoinOrder((b u))\n",
      "  \n",
      "  SeqScan(b)\n",
      "  SeqScan(u)\n",
      "  \n",
      "  HashJoin(b u)\n",
      "  \n",
      "  \n",
      "  Card(b u #79851)\n",
      "  Card(b #79851)\n",
      "  Card(u #40325)\n",
      "*/\n",
      "SELECT COUNT(*) FROM badges AS b, users AS u WHERE b.userid = u.id AND u.upvotes >= 0;\n",
      "/*=pg_lab=\n",
      "  JoinOrder((c b))\n",
      "  \n",
      "  SeqScan(c)\n",
      "  SeqScan(b)\n",
      "  \n",
      "  HashJoin(c b)\n",
      "  \n",
      "  \n",
      "  Card(c b #11091813)\n",
      "  Card(c #134866)\n",
      "  Card(b #79642)\n",
      "*/\n",
      "SELECT COUNT(*) FROM comments AS c, badges AS b WHERE c.userid = b.userid AND c.score = 0 AND b.date <= CAST('2014-09-11 14:33:06' AS timestamp);\n",
      "/*=pg_lab=\n",
      "  JoinOrder((v (p (b u))))\n",
      "  \n",
      "  IdxScan(v)\n",
      "  SeqScan(p)\n",
      "  SeqScan(b)\n",
      "  IdxScan(u)\n",
      "  \n",
      "  HashJoin(p b u v)\n",
      "  HashJoin(p b u)\n",
      "  HashJoin(b u)\n",
      "  \n",
      "  \n",
      "  Card(p b u v #603650)\n",
      "  Card(p b u #74200)\n",
      "  Card(p #37471)\n",
      "  Card(b u #79851)\n",
      "  Card(b #79851)\n",
      "*/\n",
      "SELECT COUNT(*) FROM votes AS v, posts AS p, badges AS b, users AS u WHERE u.id = v.userid AND u.id = p.owneruserid AND u.id = b.userid AND p.score >= 0 AND p.score <= 30 AND p.commentcount = 0 AND p.creationdate >= CAST('2010-07-27 15:30:31' AS timestamp) AND p.creationdate <= CAST('2014-09-04 17:45:10' AS timestamp);\n"
     ]
    },
    {
     "name": "stderr",
     "output_type": "stream",
     "text": [
      "/postbound/pb-venv/lib/python3.12/site-packages/postbound/optimizer/strategies/dynprog.py:776: UserWarning: Rejecting illegal path NestedLoopJoin(HashJoin(BitmapScan(v), SequentialScan(b)), Memoize(SequentialScan(p)))\n",
      "  warnings.warn(f\"Rejecting illegal path {path}\")\n",
      "/postbound/pb-venv/lib/python3.12/site-packages/postbound/optimizer/strategies/dynprog.py:776: UserWarning: Rejecting illegal path NestedLoopJoin(SequentialScan(p), Memoize(HashJoin(BitmapScan(v), SequentialScan(b))))\n",
      "  warnings.warn(f\"Rejecting illegal path {path}\")\n",
      "/postbound/pb-venv/lib/python3.12/site-packages/postbound/optimizer/strategies/dynprog.py:776: UserWarning: Rejecting illegal path NestedLoopJoin(HashJoin(HashJoin(SequentialScan(p), BitmapScan(u)), BitmapScan(v)), Memoize(SequentialScan(b)))\n",
      "  warnings.warn(f\"Rejecting illegal path {path}\")\n",
      "/postbound/pb-venv/lib/python3.12/site-packages/postbound/optimizer/strategies/native.py:226: UserWarning: Could not estimate the cost of memoize plan Memoize(HashJoin(HashJoin(SequentialScan(p), BitmapScan(u)), BitmapScan(v))). Returning infinite costs.\n",
      "  warnings.warn(f\"Could not estimate the cost of memoize plan {plan}. Returning infinite costs.\")\n",
      "/postbound/pb-venv/lib/python3.12/site-packages/postbound/optimizer/strategies/dynprog.py:776: UserWarning: Rejecting illegal path NestedLoopJoin(SequentialScan(b), Memoize(HashJoin(HashJoin(SequentialScan(p), BitmapScan(u)), BitmapScan(v))))\n",
      "  warnings.warn(f\"Rejecting illegal path {path}\")\n",
      "/postbound/pb-venv/lib/python3.12/site-packages/postbound/optimizer/strategies/native.py:154: UserWarning: Could not estimate cost of materialize plan Materialize(HashJoin(HashJoin(SequentialScan(p), BitmapScan(u)), BitmapScan(v))). Returning infinite costs.\n",
      "  warnings.warn(f\"Could not estimate cost of materialize plan {plan}. Returning infinite costs.\")\n",
      "/postbound/pb-venv/lib/python3.12/site-packages/postbound/optimizer/strategies/native.py:226: UserWarning: Could not estimate the cost of memoize plan Memoize(HashJoin(SequentialScan(p), HashJoin(SequentialScan(b), BitmapScan(u)))). Returning infinite costs.\n",
      "  warnings.warn(f\"Could not estimate the cost of memoize plan {plan}. Returning infinite costs.\")\n",
      "/postbound/pb-venv/lib/python3.12/site-packages/postbound/optimizer/strategies/dynprog.py:776: UserWarning: Rejecting illegal path NestedLoopJoin(BitmapScan(v), Memoize(HashJoin(SequentialScan(p), HashJoin(SequentialScan(b), BitmapScan(u)))))\n",
      "  warnings.warn(f\"Rejecting illegal path {path}\")\n",
      "/postbound/pb-venv/lib/python3.12/site-packages/postbound/optimizer/strategies/native.py:154: UserWarning: Could not estimate cost of materialize plan Materialize(HashJoin(SequentialScan(p), HashJoin(SequentialScan(b), BitmapScan(u)))). Returning infinite costs.\n",
      "  warnings.warn(f\"Could not estimate cost of materialize plan {plan}. Returning infinite costs.\")\n",
      "/postbound/pb-venv/lib/python3.12/site-packages/postbound/optimizer/strategies/dynprog.py:776: UserWarning: Rejecting illegal path NestedLoopJoin(HashJoin(BitmapScan(v), HashJoin(SequentialScan(b), BitmapScan(u))), Memoize(SequentialScan(p)))\n",
      "  warnings.warn(f\"Rejecting illegal path {path}\")\n",
      "/postbound/pb-venv/lib/python3.12/site-packages/postbound/optimizer/strategies/native.py:226: UserWarning: Could not estimate the cost of memoize plan Memoize(HashJoin(BitmapScan(v), HashJoin(SequentialScan(b), BitmapScan(u)))). Returning infinite costs.\n",
      "  warnings.warn(f\"Could not estimate the cost of memoize plan {plan}. Returning infinite costs.\")\n",
      "/postbound/pb-venv/lib/python3.12/site-packages/postbound/optimizer/strategies/dynprog.py:776: UserWarning: Rejecting illegal path NestedLoopJoin(SequentialScan(p), Memoize(HashJoin(BitmapScan(v), HashJoin(SequentialScan(b), BitmapScan(u)))))\n",
      "  warnings.warn(f\"Rejecting illegal path {path}\")\n",
      "/postbound/pb-venv/lib/python3.12/site-packages/postbound/optimizer/strategies/native.py:154: UserWarning: Could not estimate cost of materialize plan Materialize(HashJoin(BitmapScan(v), HashJoin(SequentialScan(b), BitmapScan(u)))). Returning infinite costs.\n",
      "  warnings.warn(f\"Could not estimate cost of materialize plan {plan}. Returning infinite costs.\")\n",
      "/postbound/pb-venv/lib/python3.12/site-packages/postbound/optimizer/strategies/native.py:226: UserWarning: Could not estimate the cost of memoize plan Memoize(HashJoin(SequentialScan(p), HashJoin(BitmapScan(v), SequentialScan(b)))). Returning infinite costs.\n",
      "  warnings.warn(f\"Could not estimate the cost of memoize plan {plan}. Returning infinite costs.\")\n",
      "/postbound/pb-venv/lib/python3.12/site-packages/postbound/optimizer/strategies/dynprog.py:776: UserWarning: Rejecting illegal path NestedLoopJoin(BitmapScan(u), Memoize(HashJoin(SequentialScan(p), HashJoin(BitmapScan(v), SequentialScan(b)))))\n",
      "  warnings.warn(f\"Rejecting illegal path {path}\")\n",
      "/postbound/pb-venv/lib/python3.12/site-packages/postbound/optimizer/strategies/native.py:154: UserWarning: Could not estimate cost of materialize plan Materialize(HashJoin(SequentialScan(p), HashJoin(BitmapScan(v), SequentialScan(b)))). Returning infinite costs.\n",
      "  warnings.warn(f\"Could not estimate cost of materialize plan {plan}. Returning infinite costs.\")\n"
     ]
    }
   ],
   "source": [
    "from postbound.optimizer.strategies.dynprog import PostgresDynProg\n",
    "from postbound.optimizer.strategies.dynprog import AddPathHook\n",
    "from add_path_hook import postgres_add_path_hook_standard\n",
    "\n",
    "# Create the optimization pipeline\n",
    "optimization_pipeline = pb.TextBookOptimizationPipeline(postgres_instance)\n",
    "# Create a dynamic programming optimizer instance with wanted add_path hook\n",
    "dynprog = PostgresDynProg(\n",
    "    add_path_hook= postgres_add_path_hook_standard,\n",
    "    target_db=postgres_instance)\n",
    "optimization_pipeline.setup_plan_enumerator(dynprog)\n",
    "optimization_pipeline.build()\n",
    "optimization_pipeline.describe()\n",
    "\n",
    "\n",
    "#optimize queries\n",
    "\n",
    "optimized_query_1 = optimization_pipeline.optimize_query(query_1)\n",
    "optimized_query_2 = optimization_pipeline.optimize_query(query_2)\n",
    "optimized_query_30 = optimization_pipeline.optimize_query(query_30)\n",
    "print(optimized_query_1)\n",
    "print(optimized_query_2)\n",
    "print(optimized_query_30)\n"
   ]
  },
  {
   "cell_type": "markdown",
   "metadata": {},
   "source": [
    "### Test out variant involving pruning before actually calling method"
   ]
  },
  {
   "cell_type": "code",
   "execution_count": null,
   "metadata": {},
   "outputs": [],
   "source": [
    "from add_path_hook import postgres_add_path_hook_1\n",
    "dynprog_2 = PostgresDynProg(\n",
    "    add_path_hook= postgres_add_path_hook_1,\n",
    "    target_db=postgres_instance\n",
    ")\n",
    "\n",
    "optimized_query_2_pruned = optimization_pipeline.query_execution_plan(query_2)\n",
    "print(optimized_query_2_pruned)\n"
   ]
  }
 ],
 "metadata": {
  "kernelspec": {
   "display_name": "pb-venv",
   "language": "python",
   "name": "python3"
  },
  "language_info": {
   "codemirror_mode": {
    "name": "ipython",
    "version": 3
   },
   "file_extension": ".py",
   "mimetype": "text/x-python",
   "name": "python",
   "nbconvert_exporter": "python",
   "pygments_lexer": "ipython3",
   "version": "3.12.3"
  }
 },
 "nbformat": 4,
 "nbformat_minor": 2
}
